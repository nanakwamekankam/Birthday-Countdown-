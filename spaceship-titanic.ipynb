{
 "cells": [
  {
   "cell_type": "code",
   "execution_count": 1,
   "id": "25cc2567",
   "metadata": {
    "_cell_guid": "b1076dfc-b9ad-4769-8c92-a6c4dae69d19",
    "_uuid": "8f2839f25d086af736a60e9eeb907d3b93b6e0e5",
    "execution": {
     "iopub.execute_input": "2022-06-17T11:27:05.773031Z",
     "iopub.status.busy": "2022-06-17T11:27:05.772300Z",
     "iopub.status.idle": "2022-06-17T11:27:05.787122Z",
     "shell.execute_reply": "2022-06-17T11:27:05.785721Z"
    },
    "papermill": {
     "duration": 0.028883,
     "end_time": "2022-06-17T11:27:05.790034",
     "exception": false,
     "start_time": "2022-06-17T11:27:05.761151",
     "status": "completed"
    },
    "tags": []
   },
   "outputs": [
    {
     "name": "stdout",
     "output_type": "stream",
     "text": [
      "/kaggle/input/spaceship-titanic/sample_submission.csv\n",
      "/kaggle/input/spaceship-titanic/train.csv\n",
      "/kaggle/input/spaceship-titanic/test.csv\n"
     ]
    }
   ],
   "source": [
    "# This Python 3 environment comes with many helpful analytics libraries installed\n",
    "# It is defined by the kaggle/python Docker image: https://github.com/kaggle/docker-python\n",
    "# For example, here's several helpful packages to load\n",
    "\n",
    "import numpy as np # linear algebra\n",
    "import pandas as pd # data processing, CSV file I/O (e.g. pd.read_csv)\n",
    "\n",
    "# Input data files are available in the read-only \"../input/\" directory\n",
    "# For example, running this (by clicking run or pressing Shift+Enter) will list all files under the input directory\n",
    "\n",
    "import os\n",
    "for dirname, _, filenames in os.walk('/kaggle/input'):\n",
    "    for filename in filenames:\n",
    "        print(os.path.join(dirname, filename))\n",
    "\n",
    "# You can write up to 20GB to the current directory (/kaggle/working/) that gets preserved as output when you create a version using \"Save & Run All\" \n",
    "# You can also write temporary files to /kaggle/temp/, but they won't be saved outside of the current session\n",
    "\n",
    "def done():\n",
    "    print(\"DONE\") \n",
    "# To check when processes are done"
   ]
  },
  {
   "cell_type": "markdown",
   "id": "32d17aa3",
   "metadata": {
    "papermill": {
     "duration": 0.00545,
     "end_time": "2022-06-17T11:27:05.801973",
     "exception": false,
     "start_time": "2022-06-17T11:27:05.796523",
     "status": "completed"
    },
    "tags": []
   },
   "source": [
    "# Loading Data"
   ]
  },
  {
   "cell_type": "markdown",
   "id": "c6e6bdaa",
   "metadata": {
    "papermill": {
     "duration": 0.00554,
     "end_time": "2022-06-17T11:27:05.813347",
     "exception": false,
     "start_time": "2022-06-17T11:27:05.807807",
     "status": "completed"
    },
    "tags": []
   },
   "source": [
    "Firstly, let's start by loading the training and testing data. The test data will only have independent variables(i.e X) but the training data will have both dependent(y) and independent(X) variables. The training data contains a table with different features(independent variables) of previous passengers and whether they were transported or not. "
   ]
  },
  {
   "cell_type": "code",
   "execution_count": 2,
   "id": "3634bf83",
   "metadata": {
    "execution": {
     "iopub.execute_input": "2022-06-17T11:27:05.827375Z",
     "iopub.status.busy": "2022-06-17T11:27:05.826241Z",
     "iopub.status.idle": "2022-06-17T11:27:07.012454Z",
     "shell.execute_reply": "2022-06-17T11:27:07.011157Z"
    },
    "papermill": {
     "duration": 1.196342,
     "end_time": "2022-06-17T11:27:07.015489",
     "exception": false,
     "start_time": "2022-06-17T11:27:05.819147",
     "status": "completed"
    },
    "tags": []
   },
   "outputs": [
    {
     "name": "stdout",
     "output_type": "stream",
     "text": [
      "DONE\n"
     ]
    }
   ],
   "source": [
    "# Importing train and test data\n",
    "X_train_full = pd.read_csv(\"../input/spaceship-titanic/train.csv\")\n",
    "X_test = pd.read_csv(\"../input/spaceship-titanic/test.csv\")\n",
    "\n",
    "# Drop the Name and PassengerId columns. As well as the other columns to prevent target leakage.\n",
    "X_train_full.drop([\"PassengerId\", \"Cabin\", \"RoomService\", \"FoodCourt\", \"ShoppingMall\", \"Spa\", \"VRDeck\", \"Name\"], axis=1, inplace=True)\n",
    "X_test.drop([\"Cabin\", \"RoomService\", \"FoodCourt\", \"ShoppingMall\", \"Spa\", \"VRDeck\", \"Name\"], axis=1, inplace=True)\n",
    "\n",
    "# Removing rows who don't have a transported value from training data.\n",
    "X_train_full.dropna(axis=0, subset=[\"Transported\"], inplace=True)\n",
    "y1 = X_train_full.Transported\n",
    "X = X_train_full.drop([\"Transported\"],axis=1, inplace=False)\n",
    "\n",
    "# Converting y from bool to int\n",
    "y = y1.astype(\"int64\")\n",
    "\n",
    "# From training data, get a train_test split.\n",
    "from sklearn.model_selection import train_test_split\n",
    "X_train, X_valid, y_train, y_valid = train_test_split(X, y, train_size=0.8, test_size=0.2, random_state=0)\n",
    "\n",
    "# Categorical and numerical data lists.\n",
    "categorical = [column for column in X.columns if X[column].dtype == \"object\"]\n",
    "numerical = [column for column in X.columns if X[column].dtype in ['int64', 'float64']]\n",
    "\n",
    "done()"
   ]
  },
  {
   "cell_type": "markdown",
   "id": "8f96c085",
   "metadata": {
    "papermill": {
     "duration": 0.005598,
     "end_time": "2022-06-17T11:27:07.027741",
     "exception": false,
     "start_time": "2022-06-17T11:27:07.022143",
     "status": "completed"
    },
    "tags": []
   },
   "source": [
    "After the code above, we have 2 dataframes. y contains the output, that is for each row of data was this passanger tranported or not. x contains the inputs for each row minus the useless PassengerId and Name columns which were removed from both the training and testing data because they add no value to the model. \n",
    "\n",
    "After carefull consideration, I think the columns Cabin, RoomService, FoodCourt, ShoppingMall, Spa, VRDeck will cause target leakage. This is because these are sevices that the passanger will use once on board. Hence at the point of data collection, there is no way to know that they are going to use the spa or the foodcourt, nor how many time they will use it, nor how much they will spend on these luxuries. Unless the passanger pays for the possibility of using these services as part of the voyage price, but it doesn't seem so since the values are not the same.\n",
    "\n",
    "\n",
    "Then a test_train split is done on the model. This is done early to avoid train_test leakage eventually when we impute missing values."
   ]
  },
  {
   "cell_type": "code",
   "execution_count": 3,
   "id": "3137ffa6",
   "metadata": {
    "execution": {
     "iopub.execute_input": "2022-06-17T11:27:07.040808Z",
     "iopub.status.busy": "2022-06-17T11:27:07.040430Z",
     "iopub.status.idle": "2022-06-17T11:27:07.060904Z",
     "shell.execute_reply": "2022-06-17T11:27:07.059756Z"
    },
    "papermill": {
     "duration": 0.029587,
     "end_time": "2022-06-17T11:27:07.063095",
     "exception": false,
     "start_time": "2022-06-17T11:27:07.033508",
     "status": "completed"
    },
    "tags": []
   },
   "outputs": [
    {
     "data": {
      "text/html": [
       "<div>\n",
       "<style scoped>\n",
       "    .dataframe tbody tr th:only-of-type {\n",
       "        vertical-align: middle;\n",
       "    }\n",
       "\n",
       "    .dataframe tbody tr th {\n",
       "        vertical-align: top;\n",
       "    }\n",
       "\n",
       "    .dataframe thead th {\n",
       "        text-align: right;\n",
       "    }\n",
       "</style>\n",
       "<table border=\"1\" class=\"dataframe\">\n",
       "  <thead>\n",
       "    <tr style=\"text-align: right;\">\n",
       "      <th></th>\n",
       "      <th>PassengerId</th>\n",
       "      <th>HomePlanet</th>\n",
       "      <th>CryoSleep</th>\n",
       "      <th>Destination</th>\n",
       "      <th>Age</th>\n",
       "      <th>VIP</th>\n",
       "    </tr>\n",
       "  </thead>\n",
       "  <tbody>\n",
       "    <tr>\n",
       "      <th>0</th>\n",
       "      <td>0013_01</td>\n",
       "      <td>Earth</td>\n",
       "      <td>True</td>\n",
       "      <td>TRAPPIST-1e</td>\n",
       "      <td>27.0</td>\n",
       "      <td>False</td>\n",
       "    </tr>\n",
       "    <tr>\n",
       "      <th>1</th>\n",
       "      <td>0018_01</td>\n",
       "      <td>Earth</td>\n",
       "      <td>False</td>\n",
       "      <td>TRAPPIST-1e</td>\n",
       "      <td>19.0</td>\n",
       "      <td>False</td>\n",
       "    </tr>\n",
       "    <tr>\n",
       "      <th>2</th>\n",
       "      <td>0019_01</td>\n",
       "      <td>Europa</td>\n",
       "      <td>True</td>\n",
       "      <td>55 Cancri e</td>\n",
       "      <td>31.0</td>\n",
       "      <td>False</td>\n",
       "    </tr>\n",
       "    <tr>\n",
       "      <th>3</th>\n",
       "      <td>0021_01</td>\n",
       "      <td>Europa</td>\n",
       "      <td>False</td>\n",
       "      <td>TRAPPIST-1e</td>\n",
       "      <td>38.0</td>\n",
       "      <td>False</td>\n",
       "    </tr>\n",
       "    <tr>\n",
       "      <th>4</th>\n",
       "      <td>0023_01</td>\n",
       "      <td>Earth</td>\n",
       "      <td>False</td>\n",
       "      <td>TRAPPIST-1e</td>\n",
       "      <td>20.0</td>\n",
       "      <td>False</td>\n",
       "    </tr>\n",
       "  </tbody>\n",
       "</table>\n",
       "</div>"
      ],
      "text/plain": [
       "  PassengerId HomePlanet CryoSleep  Destination   Age    VIP\n",
       "0     0013_01      Earth      True  TRAPPIST-1e  27.0  False\n",
       "1     0018_01      Earth     False  TRAPPIST-1e  19.0  False\n",
       "2     0019_01     Europa      True  55 Cancri e  31.0  False\n",
       "3     0021_01     Europa     False  TRAPPIST-1e  38.0  False\n",
       "4     0023_01      Earth     False  TRAPPIST-1e  20.0  False"
      ]
     },
     "execution_count": 3,
     "metadata": {},
     "output_type": "execute_result"
    }
   ],
   "source": [
    "#X.head()\n",
    "X_test.head()\n",
    "#print(y_train)\n",
    "#print(categorical)\n",
    "#print(numerical)"
   ]
  },
  {
   "cell_type": "markdown",
   "id": "29d979d2",
   "metadata": {
    "papermill": {
     "duration": 0.005733,
     "end_time": "2022-06-17T11:27:07.074959",
     "exception": false,
     "start_time": "2022-06-17T11:27:07.069226",
     "status": "completed"
    },
    "tags": []
   },
   "source": [
    "# Data Preprocessing"
   ]
  },
  {
   "cell_type": "markdown",
   "id": "5ef850ce",
   "metadata": {
    "papermill": {
     "duration": 0.005767,
     "end_time": "2022-06-17T11:27:07.086747",
     "exception": false,
     "start_time": "2022-06-17T11:27:07.080980",
     "status": "completed"
    },
    "tags": []
   },
   "source": [
    "Now, checking the cardinality of the categorical columns to know if they are worth encoding. Since the data shrinks to 6 uselful columns, the cardinality threshold can be increased to about 20 without getting too large of a dataset."
   ]
  },
  {
   "cell_type": "code",
   "execution_count": 4,
   "id": "141b85d3",
   "metadata": {
    "execution": {
     "iopub.execute_input": "2022-06-17T11:27:07.100944Z",
     "iopub.status.busy": "2022-06-17T11:27:07.099950Z",
     "iopub.status.idle": "2022-06-17T11:27:07.109530Z",
     "shell.execute_reply": "2022-06-17T11:27:07.108755Z"
    },
    "papermill": {
     "duration": 0.019022,
     "end_time": "2022-06-17T11:27:07.111735",
     "exception": false,
     "start_time": "2022-06-17T11:27:07.092713",
     "status": "completed"
    },
    "tags": []
   },
   "outputs": [],
   "source": [
    "# Cardinality of categorical data\n",
    "cardinalities = []\n",
    "for column in categorical:\n",
    "    card = X[column].nunique()\n",
    "    cardinalities.append((column, card))\n",
    "\n",
    "ordinal_cols = [col for (col,card) in cardinalities if card==2]\n",
    "onehot_cols = list(set(categorical) - set(ordinal_cols))"
   ]
  },
  {
   "cell_type": "markdown",
   "id": "8aa178e8",
   "metadata": {
    "papermill": {
     "duration": 0.005832,
     "end_time": "2022-06-17T11:27:07.123722",
     "exception": false,
     "start_time": "2022-06-17T11:27:07.117890",
     "status": "completed"
    },
    "tags": []
   },
   "source": [
    "Now that the data has been prepared, it is time to preprocess it with a pipeline.\n",
    "This pipeline called preprocess will:\n",
    "* Step1: Take care of missing data using the Simple Imputer\n",
    "* Step2: Take care of categorical data by encoding\n",
    "\n",
    "Since the only numerical column is Age, it makes sense to impute 0 for the missing values. It is possible the person is a baby and the guardians didn't know how to input their age since they are probably months old by that point."
   ]
  },
  {
   "cell_type": "code",
   "execution_count": 5,
   "id": "cdd440f3",
   "metadata": {
    "execution": {
     "iopub.execute_input": "2022-06-17T11:27:07.137553Z",
     "iopub.status.busy": "2022-06-17T11:27:07.136791Z",
     "iopub.status.idle": "2022-06-17T11:27:07.276280Z",
     "shell.execute_reply": "2022-06-17T11:27:07.275162Z"
    },
    "papermill": {
     "duration": 0.14947,
     "end_time": "2022-06-17T11:27:07.279046",
     "exception": false,
     "start_time": "2022-06-17T11:27:07.129576",
     "status": "completed"
    },
    "tags": []
   },
   "outputs": [],
   "source": [
    "from sklearn.compose import ColumnTransformer\n",
    "from sklearn.pipeline import Pipeline\n",
    "from sklearn.impute import SimpleImputer\n",
    "from sklearn.preprocessing import OneHotEncoder, OrdinalEncoder\n",
    "\n",
    "# Preprocessing for numerical and categorical data\n",
    "numerical_imputer = SimpleImputer(strategy=\"constant\", fill_value=0)\n",
    "ordinal_encoder = Pipeline(steps=[('imputer', SimpleImputer(strategy='most_frequent')), \n",
    "                                 ('ordinal', OrdinalEncoder())])\n",
    "onehot_encoder = Pipeline(steps=[('imputer', SimpleImputer(strategy='most_frequent')), \n",
    "                                 ('onehot', OneHotEncoder(handle_unknown='ignore'))])\n",
    "preprocessor = ColumnTransformer(transformers=[('numerical', numerical_imputer, numerical),\n",
    "                                               ('ordinal', ordinal_encoder, ordinal_cols),\n",
    "                                               ('onehot', onehot_encoder, onehot_cols)])\n"
   ]
  },
  {
   "cell_type": "markdown",
   "id": "d46197c9",
   "metadata": {
    "papermill": {
     "duration": 0.005858,
     "end_time": "2022-06-17T11:27:07.291225",
     "exception": false,
     "start_time": "2022-06-17T11:27:07.285367",
     "status": "completed"
    },
    "tags": []
   },
   "source": [
    "# Modeling and Trainging Model"
   ]
  },
  {
   "cell_type": "markdown",
   "id": "7a02c229",
   "metadata": {
    "papermill": {
     "duration": 0.00581,
     "end_time": "2022-06-17T11:27:07.303179",
     "exception": false,
     "start_time": "2022-06-17T11:27:07.297369",
     "status": "completed"
    },
    "tags": []
   },
   "source": [
    "*NOTE: All models used are present in the code, but are all commented out except for the one with the best performance*"
   ]
  },
  {
   "cell_type": "markdown",
   "id": "fb55d597",
   "metadata": {
    "papermill": {
     "duration": 0.00596,
     "end_time": "2022-06-17T11:27:07.315245",
     "exception": false,
     "start_time": "2022-06-17T11:27:07.309285",
     "status": "completed"
    },
    "tags": []
   },
   "source": [
    "Then the model is defined. Using a Regressor with gradient decent method using XGBoost."
   ]
  },
  {
   "cell_type": "code",
   "execution_count": 6,
   "id": "87c60d32",
   "metadata": {
    "execution": {
     "iopub.execute_input": "2022-06-17T11:27:07.330015Z",
     "iopub.status.busy": "2022-06-17T11:27:07.329258Z",
     "iopub.status.idle": "2022-06-17T11:27:07.334146Z",
     "shell.execute_reply": "2022-06-17T11:27:07.333467Z"
    },
    "papermill": {
     "duration": 0.014676,
     "end_time": "2022-06-17T11:27:07.336232",
     "exception": false,
     "start_time": "2022-06-17T11:27:07.321556",
     "status": "completed"
    },
    "tags": []
   },
   "outputs": [],
   "source": [
    "# # Creating XGBoost model \n",
    "# from xgboost import XGBRegressor as model\n",
    "# my_model = model(n_estimators=1000, learning_rate=0.05)\n",
    "\n",
    "# # Creating final pipeline that uses the preprocessing steps and invokes the model\n",
    "# pipeline = Pipeline(steps=[('processor', preprocessor),\n",
    "#                            ('model', my_model)])\n",
    "\n",
    "# # Using the model with the Pipeline to train data and make predictions\n",
    "# pipeline.fit(X_train, y_train)\n",
    "# pred = pipeline.predict(X_valid)\n",
    "# predictions = [round(pred[i]) for i in range(len(pred))]\n",
    "\n",
    "# from sklearn.metrics import mean_absolute_error as mae\n",
    "# score = mae(predictions, y_valid)\n",
    "# print(score)"
   ]
  },
  {
   "cell_type": "markdown",
   "id": "de8cd362",
   "metadata": {
    "papermill": {
     "duration": 0.006012,
     "end_time": "2022-06-17T11:27:07.348715",
     "exception": false,
     "start_time": "2022-06-17T11:27:07.342703",
     "status": "completed"
    },
    "tags": []
   },
   "source": [
    "Trying a different model"
   ]
  },
  {
   "cell_type": "code",
   "execution_count": 7,
   "id": "8645bef8",
   "metadata": {
    "execution": {
     "iopub.execute_input": "2022-06-17T11:27:07.363828Z",
     "iopub.status.busy": "2022-06-17T11:27:07.363039Z",
     "iopub.status.idle": "2022-06-17T11:27:07.538081Z",
     "shell.execute_reply": "2022-06-17T11:27:07.536819Z"
    },
    "papermill": {
     "duration": 0.18647,
     "end_time": "2022-06-17T11:27:07.541834",
     "exception": false,
     "start_time": "2022-06-17T11:27:07.355364",
     "status": "completed"
    },
    "tags": []
   },
   "outputs": [],
   "source": [
    "from sklearn.linear_model import LogisticRegression\n",
    "logreg = LogisticRegression(solver='lbfgs')\n",
    "\n",
    "# Creating final pipeline that uses the preprocessing steps and invokes the model\n",
    "pipeline = Pipeline(steps=[('processor', preprocessor),\n",
    "                           ('model', logreg)])\n",
    "\n",
    "# Using the model with the Pipeline to train data and make predictions\n",
    "pipeline.fit(X_train, y_train)\n",
    "pred = pipeline.predict(X_valid)\n",
    "predictions = [round(pred[i]) for i in range(len(pred))]"
   ]
  },
  {
   "cell_type": "markdown",
   "id": "2f1b2cdb",
   "metadata": {
    "papermill": {
     "duration": 0.011187,
     "end_time": "2022-06-17T11:27:07.564944",
     "exception": false,
     "start_time": "2022-06-17T11:27:07.553757",
     "status": "completed"
    },
    "tags": []
   },
   "source": [
    "# Evaluating Model"
   ]
  },
  {
   "cell_type": "code",
   "execution_count": 8,
   "id": "e28c8c65",
   "metadata": {
    "execution": {
     "iopub.execute_input": "2022-06-17T11:27:07.591055Z",
     "iopub.status.busy": "2022-06-17T11:27:07.590423Z",
     "iopub.status.idle": "2022-06-17T11:27:07.606965Z",
     "shell.execute_reply": "2022-06-17T11:27:07.604183Z"
    },
    "papermill": {
     "duration": 0.033941,
     "end_time": "2022-06-17T11:27:07.610968",
     "exception": false,
     "start_time": "2022-06-17T11:27:07.577027",
     "status": "completed"
    },
    "tags": []
   },
   "outputs": [
    {
     "name": "stdout",
     "output_type": "stream",
     "text": [
      "0.2949971247843588\n"
     ]
    }
   ],
   "source": [
    "from sklearn.metrics import mean_absolute_error as mae\n",
    "score = mae(predictions, y_valid)\n",
    "print(score)"
   ]
  },
  {
   "cell_type": "markdown",
   "id": "cbb8112c",
   "metadata": {
    "papermill": {
     "duration": 0.011667,
     "end_time": "2022-06-17T11:27:07.634927",
     "exception": false,
     "start_time": "2022-06-17T11:27:07.623260",
     "status": "completed"
    },
    "tags": []
   },
   "source": [
    "# Generating Output Results for Submission"
   ]
  },
  {
   "cell_type": "markdown",
   "id": "bda4f561",
   "metadata": {
    "papermill": {
     "duration": 0.008783,
     "end_time": "2022-06-17T11:27:07.655583",
     "exception": false,
     "start_time": "2022-06-17T11:27:07.646800",
     "status": "completed"
    },
    "tags": []
   },
   "source": [
    "Training on Full data, then generating output file for submission"
   ]
  },
  {
   "cell_type": "code",
   "execution_count": 9,
   "id": "21de4c7d",
   "metadata": {
    "execution": {
     "iopub.execute_input": "2022-06-17T11:27:07.669231Z",
     "iopub.status.busy": "2022-06-17T11:27:07.668755Z",
     "iopub.status.idle": "2022-06-17T11:27:07.811082Z",
     "shell.execute_reply": "2022-06-17T11:27:07.809827Z"
    },
    "papermill": {
     "duration": 0.152398,
     "end_time": "2022-06-17T11:27:07.814029",
     "exception": false,
     "start_time": "2022-06-17T11:27:07.661631",
     "status": "completed"
    },
    "tags": []
   },
   "outputs": [],
   "source": [
    "# Creating output for competition\n",
    "pipeline.fit(X, y)\n",
    "outputs = pipeline.predict(X_test).astype(\"int64\").astype(\"bool\")\n",
    "\n",
    "output = pd.DataFrame({'PassengerId': X_test.PassengerId,\n",
    "                       'Transported': outputs})\n",
    "output.to_csv('submission.csv', index=False)"
   ]
  }
 ],
 "metadata": {
  "kernelspec": {
   "display_name": "Python 3",
   "language": "python",
   "name": "python3"
  },
  "language_info": {
   "codemirror_mode": {
    "name": "ipython",
    "version": 3
   },
   "file_extension": ".py",
   "mimetype": "text/x-python",
   "name": "python",
   "nbconvert_exporter": "python",
   "pygments_lexer": "ipython3",
   "version": "3.7.12"
  },
  "papermill": {
   "default_parameters": {},
   "duration": 12.808142,
   "end_time": "2022-06-17T11:27:08.548585",
   "environment_variables": {},
   "exception": null,
   "input_path": "__notebook__.ipynb",
   "output_path": "__notebook__.ipynb",
   "parameters": {},
   "start_time": "2022-06-17T11:26:55.740443",
   "version": "2.3.4"
  }
 },
 "nbformat": 4,
 "nbformat_minor": 5
}
